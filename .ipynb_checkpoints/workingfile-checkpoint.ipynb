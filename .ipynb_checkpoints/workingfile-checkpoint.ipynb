{
 "cells": [
  {
   "cell_type": "code",
   "execution_count": 1,
   "metadata": {},
   "outputs": [
    {
     "name": "stderr",
     "output_type": "stream",
     "text": [
      "┌ Info: Precompiling Autologistic [05505b62-b0bd-11e8-1cec-1f3e16cbc293]\n",
      "└ @ Base loading.jl:1187\n"
     ]
    }
   ],
   "source": [
    "# Set up the package development environment (e.g. after restarting kernel)\n",
    "# pwd() should be \"C:\\\\GitWorking\\\\Autologistic\"\n",
    "using Pkg  \n",
    "Pkg.activate(pwd())   #At cmd line, could use ]activate .\n",
    "using Revise\n",
    "using Autologistic"
   ]
  },
  {
   "cell_type": "code",
   "execution_count": 2,
   "metadata": {},
   "outputs": [
    {
     "name": "stdout",
     "output_type": "stream",
     "text": [
      "\u001b[36m\u001b[1mProject \u001b[22m\u001b[39mAutologistic v0.1.0\n",
      "\u001b[32m\u001b[1m    Status\u001b[22m\u001b[39m `Project.toml`\n",
      " \u001b[90m [093fc24a]\u001b[39m\u001b[37m LightGraphs v1.1.0\u001b[39m\n",
      " \u001b[90m [295af30f]\u001b[39m\u001b[37m Revise v0.7.11\u001b[39m\n",
      " \u001b[90m [10745b16]\u001b[39m\u001b[37m Statistics \u001b[39m\n"
     ]
    }
   ],
   "source": [
    "Pkg.status()"
   ]
  },
  {
   "cell_type": "code",
   "execution_count": 3,
   "metadata": {},
   "outputs": [
    {
     "ename": "UndefVarError",
     "evalue": "UndefVarError: none not defined",
     "output_type": "error",
     "traceback": [
      "UndefVarError: none not defined",
      "",
      "Stacktrace:",
      " [1] top-level scope at In[3]:11"
     ]
    }
   ],
   "source": [
    "#-- make an ALmodel object using the full construtor --\n",
    "\n",
    "# make response, unary part\n",
    "y = Array{Bool,2}(round.(rand(10,1)))\n",
    "u = FullUnary(rand(10))\n",
    "\n",
    "# make pairwise part\n",
    "using LightGraphs\n",
    "G = Graph(10,20)\n",
    "p = SimplePairwise(G)\n",
    "\n",
    "# Call the constructor ALmodel(Y,unary,pairwise,centering,coding,labels)\n",
    "M = ALmodel(y, u, p, none, (-1,1), (\"low\",\"high\"))"
   ]
  },
  {
   "cell_type": "code",
   "execution_count": 8,
   "metadata": {},
   "outputs": [
    {
     "data": {
      "text/plain": [
       "Enum Centering:\n",
       "none = 0\n",
       "expectation = 1\n",
       "onehalf = 2"
      ]
     },
     "execution_count": 8,
     "metadata": {},
     "output_type": "execute_result"
    }
   ],
   "source": [
    "Centering"
   ]
  }
 ],
 "metadata": {
  "kernelspec": {
   "display_name": "Julia 0.7.0",
   "language": "julia",
   "name": "julia-0.7"
  },
  "language_info": {
   "file_extension": ".jl",
   "mimetype": "application/julia",
   "name": "julia",
   "version": "0.7.0"
  }
 },
 "nbformat": 4,
 "nbformat_minor": 2
}
