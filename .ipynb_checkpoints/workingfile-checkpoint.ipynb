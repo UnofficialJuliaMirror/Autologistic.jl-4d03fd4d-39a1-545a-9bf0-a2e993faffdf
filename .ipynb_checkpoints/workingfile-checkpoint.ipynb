{
 "cells": [
  {
   "cell_type": "code",
   "execution_count": 1,
   "metadata": {},
   "outputs": [
    {
     "name": "stderr",
     "output_type": "stream",
     "text": [
      "┌ Info: Recompiling stale cache file C:\\Users\\krams\\.julia\\compiled\\v0.7\\Autologistic\\Gemat.ji for Autologistic [05505b62-b0bd-11e8-1cec-1f3e16cbc293]\n",
      "└ @ Base loading.jl:1185\n"
     ]
    }
   ],
   "source": [
    "# Set up the package development environment (e.g. after restarting kernel)\n",
    "# pwd() should be \"C:\\\\GitWorking\\\\Autologistic\"\n",
    "using Pkg  \n",
    "Pkg.activate(pwd())   #At cmd line, could use ]activate .\n",
    "using Revise\n",
    "using Autologistic"
   ]
  },
  {
   "cell_type": "code",
   "execution_count": null,
   "metadata": {},
   "outputs": [],
   "source": []
  }
 ],
 "metadata": {
  "kernelspec": {
   "display_name": "Julia 0.7.0",
   "language": "julia",
   "name": "julia-0.7"
  },
  "language_info": {
   "file_extension": ".jl",
   "mimetype": "application/julia",
   "name": "julia",
   "version": "0.7.0"
  }
 },
 "nbformat": 4,
 "nbformat_minor": 2
}
