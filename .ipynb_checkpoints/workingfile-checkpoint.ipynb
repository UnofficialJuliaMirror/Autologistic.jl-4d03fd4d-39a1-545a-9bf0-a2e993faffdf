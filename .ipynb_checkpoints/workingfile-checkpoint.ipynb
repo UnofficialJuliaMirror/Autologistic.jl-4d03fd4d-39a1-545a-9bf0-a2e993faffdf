{
 "cells": [
  {
   "cell_type": "code",
   "execution_count": 2,
   "metadata": {},
   "outputs": [],
   "source": [
    "# Set up the package development environment (e.g. after restarting kernel)\n",
    "# pwd() should be \"C:\\\\GitWorking\\\\Autologistic\"\n",
    "using Pkg  \n",
    "Pkg.activate(pwd())   #At cmd line, could use ]activate .\n",
    "using Revise\n",
    "using Autologistic"
   ]
  },
  {
   "cell_type": "code",
   "execution_count": 3,
   "metadata": {},
   "outputs": [
    {
     "name": "stdout",
     "output_type": "stream",
     "text": [
      "\u001b[36m\u001b[1mProject \u001b[22m\u001b[39mAutologistic v0.1.0\n",
      "\u001b[32m\u001b[1m    Status\u001b[22m\u001b[39m `Project.toml`\n",
      " \u001b[90m [093fc24a]\u001b[39m\u001b[37m LightGraphs v1.1.0\u001b[39m\n",
      " \u001b[90m [295af30f]\u001b[39m\u001b[37m Revise v0.7.11\u001b[39m\n",
      " \u001b[90m [10745b16]\u001b[39m\u001b[37m Statistics \u001b[39m\n"
     ]
    }
   ],
   "source": [
    "Pkg.status()"
   ]
  },
  {
   "cell_type": "code",
   "execution_count": 20,
   "metadata": {},
   "outputs": [
    {
     "data": {
      "text/plain": [
       "ALmodel{FullUnary{Array{Float64,1}},SimplePairwise{Int64},Centering}(Bool[true; true; … ; false; true], Real[0.849861, 0.436809, 0.317385, 0.118229, 0.271017, 0.837055, 0.600054, 0.0314779, 0.577596, 0.138914], Real[0 0 … 0 0; 0 0 … 0 0; … ; 0 0 … 0 0; 0 0 … 0 0], none::Centering = 0, (-1, 1), (\"low\", \"high\"))"
      ]
     },
     "execution_count": 20,
     "metadata": {},
     "output_type": "execute_result"
    }
   ],
   "source": [
    "#-- make an ALmodel object using the full construtor --\n",
    "\n",
    "# make response, unary part\n",
    "y = Array{Bool,2}(round.(rand(10,1)))\n",
    "u = FullUnary(rand(10))\n",
    "\n",
    "# make pairwise part\n",
    "using LightGraphs\n",
    "G = Graph(10,20)\n",
    "p = SimplePairwise(G)\n",
    "\n",
    "# Call the constructor ALmodel(Y,unary,pairwise,centering,coding,labels)\n",
    "M = ALmodel(y, u, p, none, (-1,1), (\"low\",\"high\"))"
   ]
  },
  {
   "cell_type": "code",
   "execution_count": 5,
   "metadata": {},
   "outputs": [
    {
     "data": {
      "text/plain": [
       "ALmodel{FullUnary{Array{Float64,1}},SimplePairwise{Int64},Centering}"
      ]
     },
     "execution_count": 5,
     "metadata": {},
     "output_type": "execute_result"
    }
   ],
   "source": [
    "typeof(M)"
   ]
  },
  {
   "cell_type": "code",
   "execution_count": 24,
   "metadata": {},
   "outputs": [
    {
     "data": {
      "text/plain": [
       "10×10 Array{Int64,2}:\n",
       " 0  0  0  0  1  1  0  1  0  0\n",
       " 0  0  1  0  0  0  0  1  1  0\n",
       " 0  1  0  1  0  1  0  1  1  0\n",
       " 0  0  1  0  0  0  0  1  1  1\n",
       " 1  0  0  0  0  0  0  0  1  0\n",
       " 1  0  1  0  0  0  1  1  1  1\n",
       " 0  0  0  0  0  1  0  0  0  1\n",
       " 1  1  1  1  0  1  0  0  0  0\n",
       " 0  1  1  1  1  1  0  0  0  1\n",
       " 0  0  0  1  0  1  1  0  1  0"
      ]
     },
     "execution_count": 24,
     "metadata": {},
     "output_type": "execute_result"
    }
   ],
   "source": [
    "Matrix(adjacency_matrix(M.pairwise.G))"
   ]
  }
 ],
 "metadata": {
  "kernelspec": {
   "display_name": "Julia 0.7.0",
   "language": "julia",
   "name": "julia-0.7"
  },
  "language_info": {
   "file_extension": ".jl",
   "mimetype": "application/julia",
   "name": "julia",
   "version": "0.7.0"
  }
 },
 "nbformat": 4,
 "nbformat_minor": 2
}
