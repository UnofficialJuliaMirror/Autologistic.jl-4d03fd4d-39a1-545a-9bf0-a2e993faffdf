{
 "cells": [
  {
   "cell_type": "code",
   "execution_count": 1,
   "metadata": {},
   "outputs": [
    {
     "name": "stderr",
     "output_type": "stream",
     "text": [
      "┌ Info: Recompiling stale cache file C:\\Users\\krams\\.julia\\compiled\\v0.7\\Autologistic\\Gemat.ji for Autologistic [05505b62-b0bd-11e8-1cec-1f3e16cbc293]\n",
      "└ @ Base loading.jl:1185\n"
     ]
    }
   ],
   "source": [
    "# Set up the package development environment (e.g. after restarting kernel)\n",
    "# pwd() should be \"C:\\\\GitWorking\\\\Autologistic\"\n",
    "using Pkg  \n",
    "Pkg.activate(pwd())   #At cmd line, could use ]activate .\n",
    "using Revise\n",
    "using Autologistic"
   ]
  },
  {
   "cell_type": "code",
   "execution_count": 7,
   "metadata": {},
   "outputs": [
    {
     "name": "stdout",
     "output_type": "stream",
     "text": [
      "\u001b[36m\u001b[1mProject \u001b[22m\u001b[39mAutologistic v0.1.0\n",
      "\u001b[32m\u001b[1m    Status\u001b[22m\u001b[39m `Project.toml`\n",
      " \u001b[90m [093fc24a]\u001b[39m\u001b[37m LightGraphs v1.1.0\u001b[39m\n",
      " \u001b[90m [295af30f]\u001b[39m\u001b[37m Revise v0.7.11\u001b[39m\n",
      " \u001b[90m [10745b16]\u001b[39m\u001b[37m Statistics \u001b[39m\n"
     ]
    }
   ],
   "source": [
    "Pkg.status()"
   ]
  },
  {
   "cell_type": "code",
   "execution_count": 11,
   "metadata": {},
   "outputs": [
    {
     "data": {
      "text/plain": [
       "10×10 SimplePairwise{Int64}:\n",
       " 0  0  0  0  0  0  0  0  0  0\n",
       " 0  0  0  0  0  0  0  0  0  0\n",
       " 0  0  0  0  0  0  0  0  0  0\n",
       " 0  0  0  0  0  0  0  0  0  0\n",
       " 0  0  0  0  0  0  0  0  0  0\n",
       " 0  0  0  0  0  0  0  0  0  0\n",
       " 0  0  0  0  0  0  0  0  0  0\n",
       " 0  0  0  0  0  0  0  0  0  0\n",
       " 0  0  0  0  0  0  0  0  0  0\n",
       " 0  0  0  0  0  0  0  0  0  0"
      ]
     },
     "execution_count": 11,
     "metadata": {},
     "output_type": "execute_result"
    }
   ],
   "source": [
    "using LightGraphs\n",
    "G = Graph(10,20)\n",
    "P = SimplePairwise(G)"
   ]
  }
 ],
 "metadata": {
  "kernelspec": {
   "display_name": "Julia 0.7.0",
   "language": "julia",
   "name": "julia-0.7"
  },
  "language_info": {
   "file_extension": ".jl",
   "mimetype": "application/julia",
   "name": "julia",
   "version": "0.7.0"
  }
 },
 "nbformat": 4,
 "nbformat_minor": 2
}
