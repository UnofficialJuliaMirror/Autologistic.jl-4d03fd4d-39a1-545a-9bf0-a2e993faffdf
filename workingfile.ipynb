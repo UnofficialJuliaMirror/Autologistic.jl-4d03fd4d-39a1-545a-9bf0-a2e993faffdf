{
 "cells": [
  {
   "cell_type": "code",
   "execution_count": 1,
   "metadata": {},
   "outputs": [
    {
     "name": "stderr",
     "output_type": "stream",
     "text": [
      "┌ Info: Recompiling stale cache file C:\\Users\\krams\\.julia\\compiled\\v0.7\\Autologistic\\Gemat.ji for Autologistic [05505b62-b0bd-11e8-1cec-1f3e16cbc293]\n",
      "└ @ Base loading.jl:1185\n"
     ]
    }
   ],
   "source": [
    "# Set up the package development environment (e.g. after restarting kernel)\n",
    "# pwd() should be \"C:\\\\GitWorking\\\\Autologistic\"\n",
    "using Pkg  \n",
    "Pkg.activate(pwd())   #At cmd line, could use ]activate .\n",
    "using Revise\n",
    "using Autologistic"
   ]
  },
  {
   "cell_type": "code",
   "execution_count": 2,
   "metadata": {},
   "outputs": [
    {
     "name": "stdout",
     "output_type": "stream",
     "text": [
      "\u001b[36m\u001b[1mProject \u001b[22m\u001b[39mAutologistic v0.1.0\n",
      "\u001b[32m\u001b[1m    Status\u001b[22m\u001b[39m `Project.toml`\n",
      " \u001b[90m [093fc24a]\u001b[39m\u001b[37m LightGraphs v1.1.0\u001b[39m\n",
      " \u001b[90m [295af30f]\u001b[39m\u001b[37m Revise v0.7.11\u001b[39m\n",
      " \u001b[90m [10745b16]\u001b[39m\u001b[37m Statistics \u001b[39m\n"
     ]
    }
   ],
   "source": [
    "Pkg.status()"
   ]
  },
  {
   "cell_type": "code",
   "execution_count": 4,
   "metadata": {},
   "outputs": [
    {
     "data": {
      "text/plain": [
       "ALmodel{FullUnary{Array{Float64,1}},SimplePairwise{Int64},Centering}(Bool[false; false; … ; false; true], Real[0.761189, 0.107374, 0.698832, 0.825431, 0.981673, 0.870191, 0.224782, 0.368622, 0.402043, 0.763283], Real[0 0 … 0 0; 0 0 … 0 0; … ; 0 0 … 0 0; 0 0 … 0 0], none::Centering = 0, (-1, 1), (\"low\", \"high\"))"
      ]
     },
     "metadata": {},
     "output_type": "display_data"
    },
    {
     "data": {
      "text/plain": [
       "ALmodel{LinPredUnary{Array{Float64,2},Array{Int64,1}},SimplePairwise{Int64},Centering}(Bool[false; false; … ; false; true], Real[1.33624, 2.69975, 2.25546, 4.43709, 2.71259, 0.932166, 4.82817, 4.06181, 3.71413, 3.72131], Real[0 0 … 0 0; 0 0 … 0 0; … ; 0 0 … 0 0; 0 0 … 0 0], none::Centering = 0, (-1, 1), (\"low\", \"high\"))"
      ]
     },
     "metadata": {},
     "output_type": "display_data"
    }
   ],
   "source": [
    "#-- make an ALmodel object using the full construtor --\n",
    "\n",
    "# make response, unary part\n",
    "y = Array{Bool,2}(round.(rand(10,1)))\n",
    "u1 = FullUnary(rand(10))\n",
    "u2 = LinPredUnary(rand(10,3), [1, 2, 4])\n",
    "\n",
    "# make pairwise part\n",
    "using LightGraphs\n",
    "G = Graph(10,20)\n",
    "p = SimplePairwise(G)\n",
    "\n",
    "# Call the constructor ALmodel(Y,unary,pairwise,centering,coding,labels)\n",
    "M1 = ALmodel(y, u1, p, none, (-1,1), (\"low\",\"high\"))\n",
    "M2 = ALmodel(y, u2, p, none, (-1,1), (\"low\",\"high\"))\n",
    "display(M1)\n",
    "display(M2)"
   ]
  },
  {
   "cell_type": "code",
   "execution_count": 6,
   "metadata": {},
   "outputs": [
    {
     "data": {
      "text/plain": [
       "3-element Array{Int64,1}:\n",
       " 1\n",
       " 2\n",
       " 4"
      ]
     },
     "execution_count": 6,
     "metadata": {},
     "output_type": "execute_result"
    }
   ],
   "source": [
    "M2.unary.β"
   ]
  },
  {
   "cell_type": "code",
   "execution_count": 24,
   "metadata": {},
   "outputs": [
    {
     "data": {
      "text/plain": [
       "10×10 Array{Int64,2}:\n",
       " 0  0  0  0  1  1  0  1  0  0\n",
       " 0  0  1  0  0  0  0  1  1  0\n",
       " 0  1  0  1  0  1  0  1  1  0\n",
       " 0  0  1  0  0  0  0  1  1  1\n",
       " 1  0  0  0  0  0  0  0  1  0\n",
       " 1  0  1  0  0  0  1  1  1  1\n",
       " 0  0  0  0  0  1  0  0  0  1\n",
       " 1  1  1  1  0  1  0  0  0  0\n",
       " 0  1  1  1  1  1  0  0  0  1\n",
       " 0  0  0  1  0  1  1  0  1  0"
      ]
     },
     "execution_count": 24,
     "metadata": {},
     "output_type": "execute_result"
    }
   ],
   "source": [
    "Matrix(adjacency_matrix(M.pairwise.G))"
   ]
  },
  {
   "cell_type": "code",
   "execution_count": 6,
   "metadata": {},
   "outputs": [
    {
     "name": "stdout",
     "output_type": "stream",
     "text": [
      "Real[0.4698, 0.803123, 0.209755, 0.380925, 0.437959, 0.619664, 0.476342, 0.325252, 0.389736, 0.0396918]"
     ]
    }
   ],
   "source": [
    "show(M.unary)"
   ]
  }
 ],
 "metadata": {
  "kernelspec": {
   "display_name": "Julia 0.7.0",
   "language": "julia",
   "name": "julia-0.7"
  },
  "language_info": {
   "file_extension": ".jl",
   "mimetype": "application/julia",
   "name": "julia",
   "version": "0.7.0"
  }
 },
 "nbformat": 4,
 "nbformat_minor": 2
}
