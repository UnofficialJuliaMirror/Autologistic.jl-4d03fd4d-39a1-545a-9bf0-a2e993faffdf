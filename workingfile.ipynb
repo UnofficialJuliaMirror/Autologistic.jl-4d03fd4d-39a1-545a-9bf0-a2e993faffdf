{
 "cells": [
  {
   "cell_type": "code",
   "execution_count": 1,
   "metadata": {},
   "outputs": [
    {
     "name": "stderr",
     "output_type": "stream",
     "text": [
      "┌ Info: Recompiling stale cache file C:\\Users\\Mark\\.julia\\compiled\\v0.7\\Autologistic\\Gemat.ji for Autologistic [05505b62-b0bd-11e8-1cec-1f3e16cbc293]\n",
      "└ @ Base loading.jl:1185\n"
     ]
    }
   ],
   "source": [
    "# Set up the package development environment (e.g. after restarting kernel)\n",
    "# pwd() should be \"C:\\\\GitWorking\\\\Autologistic\"\n",
    "using Pkg  \n",
    "Pkg.activate(pwd())   #At cmd line, could use ]activate .\n",
    "using Revise\n",
    "using Autologistic"
   ]
  },
  {
   "cell_type": "code",
   "execution_count": 2,
   "metadata": {},
   "outputs": [
    {
     "name": "stdout",
     "output_type": "stream",
     "text": [
      "\u001b[36m\u001b[1mProject \u001b[22m\u001b[39mAutologistic v0.1.0\n",
      "\u001b[32m\u001b[1m    Status\u001b[22m\u001b[39m `Project.toml`\n",
      " \u001b[90m [093fc24a]\u001b[39m\u001b[37m LightGraphs v1.1.0\u001b[39m\n",
      " \u001b[90m [295af30f]\u001b[39m\u001b[37m Revise v0.7.11\u001b[39m\n",
      " \u001b[90m [10745b16]\u001b[39m\u001b[37m Statistics \u001b[39m\n"
     ]
    }
   ],
   "source": [
    "Pkg.status()"
   ]
  },
  {
   "cell_type": "code",
   "execution_count": 3,
   "metadata": {},
   "outputs": [
    {
     "data": {
      "text/plain": [
       "ALmodel{FullUnary{Array{Float64,1}},SimplePairwise,CenteringKinds}(Bool[true; true; … ; true; false], Real[0.0681357, 0.609016, 0.499652, 0.562873, 0.905075, 0.765589, 0.750771, 0.520868, 0.0753397, 0.678995], Real[0.0 0.0 … 0.0 0.0; 0.0 0.0 … 0.0 0.0; … ; 0.0 0.0 … 0.0 0.0; 0.0 0.0 … 0.0 0.0], none::CenteringKinds = 0, (-1, 1), (\"low\", \"high\"))"
      ]
     },
     "metadata": {},
     "output_type": "display_data"
    },
    {
     "data": {
      "text/plain": [
       "ALmodel{LinPredUnary{Array{Float64,2},Array{Int64,1}},SimplePairwise,CenteringKinds}(Bool[true; true; … ; true; false], Real[3.93115, 2.31773, 0.580379, 3.2628, 3.15392, 5.00043, 1.30143, 4.37433, 2.40933, 5.79016], Real[0.0 0.0 … 0.0 0.0; 0.0 0.0 … 0.0 0.0; … ; 0.0 0.0 … 0.0 0.0; 0.0 0.0 … 0.0 0.0], none::CenteringKinds = 0, (-1, 1), (\"low\", \"high\"))"
      ]
     },
     "metadata": {},
     "output_type": "display_data"
    }
   ],
   "source": [
    "#-- make an ALmodel object using the full construtor --\n",
    "\n",
    "# make response, unary part\n",
    "y = Array{Bool,2}(round.(rand(10,1)))\n",
    "u1 = FullUnary(rand(10))\n",
    "u2 = LinPredUnary(rand(10,3), [1, 2, 4])\n",
    "\n",
    "# make pairwise part\n",
    "using LightGraphs\n",
    "G = Graph(10,20)\n",
    "p = SimplePairwise(G)\n",
    "\n",
    "# Call the constructor ALmodel(Y,unary,pairwise,centering,coding,labels)\n",
    "M1 = ALmodel(y, u1, p, none, (-1,1), (\"low\",\"high\"))\n",
    "M2 = ALmodel(y, u2, p, none, (-1,1), (\"low\",\"high\"))\n",
    "display(M1)\n",
    "display(M2)"
   ]
  },
  {
   "cell_type": "code",
   "execution_count": 4,
   "metadata": {},
   "outputs": [
    {
     "data": {
      "text/plain": [
       "ALmodel{FullUnary{Array{Float64,1}},SimplePairwise,CenteringKinds}(Bool[false; true; … ; false; false], Real[1.20895e-315, 1.20895e-315, 4.94066e-324, 1.20895e-315, 1.20895e-315, 1.20895e-315, 8.39912e-323, 2.61855e-322, 1.97626e-323, 1.20321e-315], Real[0.0 0.0 … 0.0 0.0; 0.0 0.0 … 0.0 0.0; … ; 0.0 0.0 … 0.0 0.0; 0.0 0.0 … 0.0 0.0], onehalf::CenteringKinds = 2, (-1, 1), (\"low\", \"high\"))"
      ]
     },
     "execution_count": 4,
     "metadata": {},
     "output_type": "execute_result"
    }
   ],
   "source": [
    "# Make an ALmodel using outer constructors\n",
    "M3 = ALmodel(FullUnary(10),SimplePairwise(Graph(10,20)),centering=onehalf)"
   ]
  },
  {
   "cell_type": "code",
   "execution_count": 21,
   "metadata": {},
   "outputs": [
    {
     "ename": "ErrorException",
     "evalue": "Need exactly 2 unique values to make a Bool array",
     "output_type": "error",
     "traceback": [
      "Need exactly 2 unique values to make a Bool array",
      "",
      "Stacktrace:",
      " [1] error(::String) at .\\error.jl:33",
      " [2] makebool(::Array{Float64,1}) at C:\\TEMPORARY\\Junction to D drive\\GitWorking\\Autologistic\\src\\common.jl:15",
      " [3] #ALRsimple#6(::Array{Float64,1}, ::Array{Float64,1}, ::Float64, ::CenteringKinds, ::Tuple{Int64,Int64}, ::Tuple{String,String}, ::Function, ::SimpleGraph{Int64}, ::Array{Float64,2}) at C:\\TEMPORARY\\Junction to D drive\\GitWorking\\Autologistic\\src\\almodel_type.jl:56",
      " [4] (::getfield(Autologistic, Symbol(\"#kw##ALRsimple\")))(::NamedTuple{(:coding, :λ, :β, :Y),Tuple{Tuple{Int64,Int64},Float64,Array{Float64,1},Array{Float64,1}}}, ::typeof(ALRsimple), ::SimpleGraph{Int64}, ::Array{Float64,2}) at .\\none:0",
      " [5] top-level scope at In[21]:4"
     ]
    }
   ],
   "source": [
    "# Make an ALRsimple model with the custom constructor\n",
    "X = rand(20,3)\n",
    "GG = Graph(20,30)\n",
    "M4 = ALRsimple(GG,X,coding=(0,1),λ=2.0, β=rand(3), Y=rand(20))"
   ]
  },
  {
   "cell_type": "code",
   "execution_count": 15,
   "metadata": {},
   "outputs": [
    {
     "data": {
      "text/plain": [
       "3-element Array{Float64,1}:\n",
       " 0.14086779153824258\n",
       " 0.06626255298158457\n",
       " 0.13817388957931453"
      ]
     },
     "execution_count": 15,
     "metadata": {},
     "output_type": "execute_result"
    }
   ],
   "source": [
    "getparameters(M4.unary)"
   ]
  },
  {
   "cell_type": "code",
   "execution_count": 13,
   "metadata": {},
   "outputs": [
    {
     "data": {
      "text/markdown": [
       "| name        |      size | summary                                                                                |\n",
       "|:----------- | ---------:|:-------------------------------------------------------------------------------------- |\n",
       "| Base        |           | Module                                                                                 |\n",
       "| Core        |           | Module                                                                                 |\n",
       "| G           | 856 bytes | SimpleGraph{Int64}                                                                     |\n",
       "| M1          | 1.126 KiB | ALmodel{FullUnary{Array{Float64,1}},SimplePairwise,CenteringKinds}                     |\n",
       "| M2          | 1.353 KiB | ALmodel{LinPredUnary{Array{Float64,2},Array{Int64,1}},SimplePairwise,CenteringKinds}   |\n",
       "| M3          | 1.126 KiB | ALmodel{FullUnary{Array{Float64,1}},SimplePairwise,CenteringKinds}                     |\n",
       "| M3b         | 1.126 KiB | ALmodel{FullUnary{Array{Float64,1}},SimplePairwise,CenteringKinds}                     |\n",
       "| Main        |           | Module                                                                                 |\n",
       "| p           | 872 bytes | **TODO**                                                                               |\n",
       "| startupfile |  53 bytes | String                                                                                 |\n",
       "| u1          | 128 bytes | FullUnary{Array{Float64,1}} with 10 elements and average value 0.558                   |\n",
       "| u2          | 360 bytes | LinPredUnary{Array{Float64,2},Array{Int64,1}} with 10 elements and average value 3.008 |\n",
       "| y           |  50 bytes | 10×1 Array{Bool,2}                                                                     |\n"
      ],
      "text/plain": [
       "name             size summary                                                                               \n",
       "––––––––––– ––––––––– ––––––––––––––––––––––––––––––––––––––––––––––––––––––––––––––––––––––––––––––––––––––\n",
       "Base                  Module                                                                                \n",
       "Core                  Module                                                                                \n",
       "G           856 bytes SimpleGraph{Int64}                                                                    \n",
       "M1          1.126 KiB ALmodel{FullUnary{Array{Float64,1}},SimplePairwise,CenteringKinds}                    \n",
       "M2          1.353 KiB ALmodel{LinPredUnary{Array{Float64,2},Array{Int64,1}},SimplePairwise,CenteringKinds}  \n",
       "M3          1.126 KiB ALmodel{FullUnary{Array{Float64,1}},SimplePairwise,CenteringKinds}                    \n",
       "M3b         1.126 KiB ALmodel{FullUnary{Array{Float64,1}},SimplePairwise,CenteringKinds}                    \n",
       "Main                  Module                                                                                \n",
       "p           872 bytes **TODO**                                                                              \n",
       "startupfile  53 bytes String                                                                                \n",
       "u1          128 bytes FullUnary{Array{Float64,1}} with 10 elements and average value 0.558                  \n",
       "u2          360 bytes LinPredUnary{Array{Float64,2},Array{Int64,1}} with 10 elements and average value 3.008\n",
       "y            50 bytes 10×1 Array{Bool,2}                                                                    "
      ]
     },
     "execution_count": 13,
     "metadata": {},
     "output_type": "execute_result"
    }
   ],
   "source": [
    "varinfo()"
   ]
  },
  {
   "cell_type": "code",
   "execution_count": 24,
   "metadata": {},
   "outputs": [
    {
     "data": {
      "text/plain": [
       "10×10 Array{Int64,2}:\n",
       " 0  0  0  0  1  1  0  1  0  0\n",
       " 0  0  1  0  0  0  0  1  1  0\n",
       " 0  1  0  1  0  1  0  1  1  0\n",
       " 0  0  1  0  0  0  0  1  1  1\n",
       " 1  0  0  0  0  0  0  0  1  0\n",
       " 1  0  1  0  0  0  1  1  1  1\n",
       " 0  0  0  0  0  1  0  0  0  1\n",
       " 1  1  1  1  0  1  0  0  0  0\n",
       " 0  1  1  1  1  1  0  0  0  1\n",
       " 0  0  0  1  0  1  1  0  1  0"
      ]
     },
     "execution_count": 24,
     "metadata": {},
     "output_type": "execute_result"
    }
   ],
   "source": [
    "Matrix(adjacency_matrix(M.pairwise.G))"
   ]
  },
  {
   "cell_type": "code",
   "execution_count": 6,
   "metadata": {},
   "outputs": [
    {
     "name": "stdout",
     "output_type": "stream",
     "text": [
      "Real[0.4698, 0.803123, 0.209755, 0.380925, 0.437959, 0.619664, 0.476342, 0.325252, 0.389736, 0.0396918]"
     ]
    }
   ],
   "source": [
    "show(M.unary)"
   ]
  }
 ],
 "metadata": {
  "kernelspec": {
   "display_name": "Julia 0.7.0",
   "language": "julia",
   "name": "julia-0.7"
  },
  "language_info": {
   "file_extension": ".jl",
   "mimetype": "application/julia",
   "name": "julia",
   "version": "0.7.0"
  }
 },
 "nbformat": 4,
 "nbformat_minor": 2
}
